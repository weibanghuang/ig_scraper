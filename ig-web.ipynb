{
 "metadata": {
  "language_info": {
   "codemirror_mode": {
    "name": "ipython",
    "version": 3
   },
   "file_extension": ".py",
   "mimetype": "text/x-python",
   "name": "python",
   "nbconvert_exporter": "python",
   "pygments_lexer": "ipython3",
   "version": "3.8.8"
  },
  "orig_nbformat": 2,
  "kernelspec": {
   "name": "python388jvsc74a57bd0c425ed1dcebe4b2ddbc226ad1f4c02dd91e31bfd626ec9fca7823e7113b9af86",
   "display_name": "Python 3.8.8 64-bit ('base': conda)"
  },
  "metadata": {
   "interpreter": {
    "hash": "1f3badd15024c32157114ba2220d2563bd5c52546c58b5347587a8ed5081412b"
   }
  }
 },
 "nbformat": 4,
 "nbformat_minor": 2,
 "cells": [
  {
   "cell_type": "code",
   "execution_count": 3,
   "metadata": {},
   "outputs": [],
   "source": [
    "from selenium import webdriver\n",
    "from selenium.webdriver.common.keys import Keys\n",
    "from selenium.webdriver.support import expected_conditions as EC\n",
    "from selenium.webdriver.common.by import By\n",
    "from selenium.webdriver.support.wait import WebDriverWait\n",
    "import time"
   ]
  },
  {
   "cell_type": "code",
   "execution_count": 11,
   "metadata": {},
   "outputs": [],
   "source": [
    "DRIVER_PATH = '/Users/weibanghuang/Downloads/path/chromedriver'"
   ]
  },
  {
   "cell_type": "code",
   "execution_count": 13,
   "metadata": {},
   "outputs": [],
   "source": [
    "driver = webdriver.Chrome(executable_path=DRIVER_PATH)\n",
    "driver.get('https://www.instagram.com/')"
   ]
  },
  {
   "cell_type": "code",
   "execution_count": 14,
   "metadata": {},
   "outputs": [],
   "source": [
    "username = WebDriverWait(driver, 10).until(EC.element_to_be_clickable((By.CSS_SELECTOR, \"input[name='username']\")))\n",
    "password = WebDriverWait(driver, 10).until(EC.element_to_be_clickable((By.CSS_SELECTOR, \"input[name='password']\")))\n",
    "\n",
    "#enter username and password\n",
    "username.clear()\n",
    "username.send_keys(\"famous_crossing\")\n",
    "password.clear()\n",
    "password.send_keys(\"Password100%strong!\")\n",
    "button = WebDriverWait(driver, 2).until(EC.element_to_be_clickable((By.CSS_SELECTOR, \"button[type='submit']\"))).click()\n"
   ]
  },
  {
   "cell_type": "code",
   "execution_count": 15,
   "metadata": {},
   "outputs": [],
   "source": [
    "driver.get('https://www.instagram.com/anthon_ol/')"
   ]
  },
  {
   "cell_type": "code",
   "execution_count": 16,
   "metadata": {
    "tags": []
   },
   "outputs": [],
   "source": [
    "n_scrolls = 2\n",
    "result=[]\n",
    "for j in range(0, n_scrolls):\n",
    "    anchors = driver.find_elements_by_tag_name('a')\n",
    "    anchors = [a.get_attribute('href') for a in anchors]\n",
    "    result.append(anchors)\n",
    "    driver.execute_script(\"window.scrollTo(0,document.body.scrollHeight);\")\n",
    "    time.sleep(5)"
   ]
  },
  {
   "cell_type": "code",
   "execution_count": 17,
   "metadata": {},
   "outputs": [],
   "source": [
    "weblinks=[]\n",
    "for i in result:\n",
    "    for j in i:\n",
    "        if str(j).startswith(\"https://www.instagram.com/p/\"):\n",
    "            weblinks.append(j)\n",
    "\n",
    "weblinks=list(set(weblinks))"
   ]
  },
  {
   "cell_type": "code",
   "execution_count": 21,
   "metadata": {},
   "outputs": [
    {
     "output_type": "stream",
     "name": "stdout",
     "text": [
      "https://www.instagram.com/p/CIzocdrnXy3/\nhttps://www.instagram.com/p/BzI9lHxnE6W/\nhttps://www.instagram.com/p/BloTiwyj2GS/\nhttps://www.instagram.com/p/BxyoSQxn4t8/\nhttps://www.instagram.com/p/CDNNZotH_Q_/\nhttps://www.instagram.com/p/Bzj6mOlH8Eg/\nhttps://www.instagram.com/p/ByM1dXpH5P7/\nhttps://www.instagram.com/p/B3snVZoH14R/\nhttps://www.instagram.com/p/BvX7QhuHVUK/\nhttps://www.instagram.com/p/CNJbBojH8Ta/\nhttps://www.instagram.com/p/BWi86kBBf5c/\nhttps://www.instagram.com/p/noRUjSGK-8/\n12\n"
     ]
    }
   ],
   "source": [
    "for link in weblinks:\n",
    "    print(link)\n",
    "\n",
    "print(len(weblinks))"
   ]
  },
  {
   "cell_type": "code",
   "execution_count": 23,
   "metadata": {},
   "outputs": [
    {
     "output_type": "stream",
     "name": "stdout",
     "text": [
      "['anngie_isadora_may', 'poofysheep_', 'hardat_h_', 'mzd_jiniya', 'goodgirlfariri', 'direwolf6', 'klu_che', 'benson.the.li', 'juicetinchu', 'ari_pap', 'tany_tjl', 'danyul_li', 'itsjoannee_', 'karen_da_least', 'hazelhong_', 'mohsinhayati', 'lacerationx', 'yowangwang', 'nico_venegas', 'meganzobrienz', '_sam_swanson', 'vikakuz08', 'iwinnieeexi', 'fashionably_lazy', 'please_dont_eat_my_ass_spirits', 'sandy19lu', 'or__ange', 'octopuxxu', 'elliephantitis', 'otakuchips', 'when_brown', 'nowayitswee', 'badboiweiwei', 'dszeto', 'tierneyrhiannon', 'bluetigerkungfu', '_lightsand_', 'arianajeanee', 'thaliaycepeda', 'apr.miao', 'insanelycutenoah', 'angixwx', 'cheeks1.00', 'isuckatthis123']\n"
     ]
    },
    {
     "output_type": "execute_result",
     "data": {
      "text/plain": [
       "44"
      ]
     },
     "metadata": {},
     "execution_count": 23
    }
   ],
   "source": [
    "driver.get(\"https://www.instagram.com/p/BloTiwyj2GS/\")\n",
    "time.sleep(3)\n",
    "element = WebDriverWait(driver, 2).until(EC.element_to_be_clickable((By.CSS_SELECTOR, \"a[class='zV_Nj']\"))).click()\n",
    "time.sleep(3)\n",
    "users = []\n",
    "for x in range(10):\n",
    "    elems = driver.find_elements_by_xpath(\"//a[@class='FPmhX notranslate MBL3Z']\")\n",
    "    for elem in elems:\n",
    "        users.append(elem.get_attribute('title'))\n",
    "    elems[-1].location_once_scrolled_into_view\n",
    "    time.sleep(3)\n",
    "\n",
    "users=list(set(users))\n",
    "print(users)\n",
    "len(users)"
   ]
  },
  {
   "cell_type": "code",
   "execution_count": 24,
   "metadata": {},
   "outputs": [],
   "source": [
    "videolinks=[]\n",
    "all_likes=[]\n",
    "# ----------------------\n",
    "for links in weblinks:\n",
    "    try:\n",
    "        driver.get(links)\n",
    "        time.sleep(3)\n",
    "        element = WebDriverWait(driver, 2).until(EC.element_to_be_clickable((By.CSS_SELECTOR, \"a[class='zV_Nj']\"))).click() \n",
    "        time.sleep(3)\n",
    "    except:\n",
    "        videolinks.append(links)\n"
   ]
  },
  {
   "cell_type": "code",
   "execution_count": 29,
   "metadata": {},
   "outputs": [],
   "source": [
    "all_likes=[]\n",
    "def scrape_likes(link):\n",
    "    users = []\n",
    "    try:\n",
    "        driver.get(link)\n",
    "        time.sleep(3)\n",
    "        element = WebDriverWait(driver, 2).until(EC.element_to_be_clickable((By.CSS_SELECTOR, \"a[class='zV_Nj']\"))).click()\n",
    "        time.sleep(3)\n",
    "        for x in range(10):\n",
    "            elems = driver.find_elements_by_xpath(\"//a[@class='FPmhX notranslate MBL3Z']\")\n",
    "            for elem in elems:\n",
    "                users.append(elem.get_attribute('title'))\n",
    "            elems[-1].location_once_scrolled_into_view\n",
    "            time.sleep(3)\n",
    "        users=list(set(users))\n",
    "    except:\n",
    "        pass\n",
    "    return users\n",
    "\n",
    "for links in weblinks:\n",
    "    all_likes.append(scrape_likes(links))\n"
   ]
  },
  {
   "cell_type": "code",
   "execution_count": 32,
   "metadata": {},
   "outputs": [
    {
     "output_type": "stream",
     "name": "stdout",
     "text": [
      "['holly.asaro', 't.kieltyka', 'shahjmahal', 'kalpabannikuppe', 'mzd_jiniya', 'phamous44', 'jennvuong_', 'labelstom', 'justintime417', 'vl_18_', 'benson.the.li', 'gabemreis', 'juicetinchu', 'wilkin.wu', 'sa.shon', 'itsjoannee_', 'ashnajjoseph', 'mohsinhayati', 'born_james11', 'jaredgabrielli', 'j.ocelynn.c', 'babyy._.antoinette', 'yowangwang', 'fa.re.ha', 'meganzobrienz', 'wowmattyy', 'alexandraleighh_', '_sam_swanson', 'brandon.yee', '4m4nd4burk3', 'fashionably_lazy', 'sandy19lu', 'octopuxxu', 'fucheeks', 'stellamiliopulos', 'when_brown', 'dszeto', 'andelaww', 'staluppi_nation', 'mathew.li7', 'whatacornpop', 'xoanetka', 'grimycolon', 'seb.camacho', 'arianajeanee', 'imjustmikeyy', 'lbst.09', 'thaliaycepeda', 'icysango', 'andrew__137', 'vietbabyx', 'tahj_tx', 'hk_0430']\n['holly.asaro', 'just.owen', 'hardat_h_', 'wency__tang', 'mzd_jiniya', 'shahjmahal', 'jiy_unthr', 'phamous44', 'jennvuong_', 'justintime417', 'benson.the.li', 'blssm_chn', 'juicetinchu', 'wilkin.wu', 'ari_pap', 'tany_tjl', 'itsjoannee_', 'miles_foydl', 'hazelhong_', 'born_james11', 'mohsinhayati', 'jaredgabrielli', 'babyy._.antoinette', 'yowangwang', 'lawzzl', 'gayographer', '_art3mus', 'iwinnieeexi', '_sam_swanson', 'meganzobrienz', 'brandon.yee', 'saravincent1', 'fashionably_lazy', 'please_dont_eat_my_ass_spirits', 'sandy19lu', 'or__ange', 'octopuxxu', 'mattkluska', 'bbecky_c', 'elliephantitis', 'anishcheriyan', 'mjoliee', 'nowayitswee', 'andelaww', 'mirandaaa_218', 'xoanetka', 'grimycolon', 'rohanchandakkar', 'imjustmikeyy', 'vietbabyx', 'lbst.09', 'arianajeanee', 'caseelu', 'thinlyslice', 'adtoala', 'andrew__137', 'chodenator_', 'angixwx', 'hk_0430', 'isuckatthis123']\n['anngie_isadora_may', 'poofysheep_', 'hardat_h_', 'mzd_jiniya', 'goodgirlfariri', 'direwolf6', 'klu_che', 'benson.the.li', 'juicetinchu', 'ari_pap', 'tany_tjl', 'danyul_li', 'itsjoannee_', 'karen_da_least', 'hazelhong_', 'mohsinhayati', 'lacerationx', 'yowangwang', 'nico_venegas', 'meganzobrienz', '_sam_swanson', 'vikakuz08', 'iwinnieeexi', 'fashionably_lazy', 'please_dont_eat_my_ass_spirits', 'sandy19lu', 'or__ange', 'octopuxxu', 'elliephantitis', 'otakuchips', 'when_brown', 'nowayitswee', 'badboiweiwei', 'dszeto', 'tierneyrhiannon', 'bluetigerkungfu', '_lightsand_', 'arianajeanee', 'thaliaycepeda', 'apr.miao', 'insanelycutenoah', 'angixwx', 'cheeks1.00', 'isuckatthis123']\n['holly.asaro', 'ak.loo', 'hardat_h_', 'wency__tang', 'alv.ssa', 'shahjmahal', 'mzd_jiniya', 'goodgirlfariri', 'direwolf6', 'jennvuong_', 'emma___kane', 'phamous44', 'justintime417', 'just.liu', 'klu_che', 'jiy_unthr', 'mari.beeb', 'benson.the.li', 'blssm_chn', 'juicetinchu', 'wilkin.wu', 'ari_pap', 'tany_tjl', 'itsjoannee_', 'karen_da_least', 'hazelhong_', 'abkrivo', 'miles_foydl', 'mohsinhayati', 'jaredgabrielli', 'blackcat8174', 'yowangwang', 'fa.re.ha', 'meganzobrienz', '_sam_swanson', 'dmoalxoxo', 'hk_0430', 'saravincent1', 'brandon.yee', 'fashionably_lazy', 'isuckatthis123', 'maggiezusc', 'sandy19lu', 'or__ange', 'elliephantitis', 'bbecky_c', 'mjoliee', 'when_brown', 'nowayitswee', 'badboiweiwei', 'dszeto', 'mirandaaa_218', 'xoanetka', '_lightsand_', 'grimycolon', 'infernorabbit95', 'imjustmikeyy', 'arianajeanee', 'lbst.09', 'andrew__137', 'chodenator_', 'angixwx', 'anishcheriyan', 'otakuchips']\n['holly.asaro', 'just.owen', 'hardat_h_', 'realfastidious', 'labelstom', 'shahjmahal', 'kalpabannikuppe', 'jiy_unthr', 'phamous44', 'jennvuong_', 'justintime417', 'klu_che', 'mari.beeb', 'benson.the.li', 'blssm_chn', 'joshc497', 'linfinity.beyond', 'juicetinchu', 'wilkin.wu', 'chris_jaglal', 'itsjoannee_', 'miles_foydl', 'mohsinhayati', 'born_james11', 'hazelhong_', 'jaredgabrielli', 'saipalati', 'lacerationx', 'yowangwang', 'gayographer', '4m4nd4burk3', '_sam_swanson', 'alexandraleighh_', 'meganzobrienz', 'brandon.yee', 'sandy19lu', 'or__ange', 'octopuxxu', 'trentjamespetersen', 'elliephantitis', 'bbecky_c', 'stellamiliopulos', 'anishcheriyan', 'when_brown', 'badboiweiwei', 'dszeto', 'tierneyrhiannon', 'mathew.li7', 'xoanetka', 'whatacornpop', 'arianajeanee', 'lbst.09', 'thaliaycepeda', 'thinlyslice', 'adtoala', 'andrew__137', 'tahj_tx', 'hk_0430', 'otakuchips']\n['holly.asaro', 'just.owen', 'rolojosh', 'wency__tang', 'mzd_jiniya', 'phamous44', 'jennvuong_', 'justintime417', 'benson.the.li', 'blssm_chn', 'juicetinchu', 'wilkin.wu', 'tany_tjl', 'itsjoannee_', 'miles_foydl', 'mohsinhayati', 'hazelhong_', 'blackcat8174', 'babyy._.antoinette', 'fa.re.ha', '_sam_swanson', 'saravincent1', 'brandon.yee', 'sandy19lu', 'or__ange', 'elliephantitis', 'bbecky_c', 'andelaww', 'grimycolon', 'infernorabbit95', 'lbst.09', 'thaliaycepeda', 'angixwx', 'hk_0430', 'isuckatthis123']\n['holly.asaro', 'just.owen', 'ak.loo', 'vicpwn123', 'wency__tang', 'mzd_jiniya', 'goodgirlfariri', 'phamous44', 'jennvuong_', 'jiy_unthr', 'justintime417', 'benson.the.li', 'juicetinchu', 'wilkin.wu', 'tany_tjl', 'itsjoannee_', 'miles_foydl', 'hazelhong_', 'mohsinhayati', 'jaredgabrielli', 'blackcat8174', 'yowangwang', 'fa.re.ha', 'gayographer', 'meganzobrienz', '_sam_swanson', 'brandon.yee', 'saravincent1', 'sandy19lu', 'or__ange', 'elliephantitis', 'bbecky_c', 'badboiweiwei', 'tierneyrhiannon', 'staluppi_nation', 'bluetigerkungfu', 'mirandaaa_218', '_lightsand_', 'grimycolon', 'imjustmikeyy', 'arianajeanee', 'lbst.09', 'caseelu', 'icysango', 'angixwx', 'hk_0430', 'caroline__grxx']\n['holly.asaro', 'just.owen', 'ak.loo', 'rolojosh', 'mzd_jiniya', 'phemieh', 'jiy_unthr', 'phamous44', 'vl_18_', 'justintime417', 'klu_che', 'benson.the.li', 'juicetinchu', 'wilkin.wu', 'tany_tjl', 'itsjoannee_', 'ashnajjoseph', 'miles_foydl', 'mohsinhayati', 'hazelhong_', 'jayyyabaddd', 'jaredgabrielli', 'babyy._.antoinette', 'nico_venegas', 'yowangwang', 'fa.re.ha', 'gayographer', '_sam_swanson', 'dmoalxoxo', 'alexandraleighh_', 'keviin.liang', 'brandon.yee', 'saravincent1', 'fashionably_lazy', 'sandy19lu', 'or__ange', 'octopuxxu', 'trentjamespetersen', 'otakuchips', 'bbecky_c', 'mecon_4ever', 'mjoliee', 'when_brown', 'badboiweiwei', 'phyllakit', 'tierneyrhiannon', 'andelaww', 'staluppi_nation', 'mirandaaa_218', 'xoanetka', 'grimycolon', 'rohanchandakkar', 'infernorabbit95', 'imjustmikeyy', 'arianajeanee', 'lbst.09', 'thaliaycepeda', 'andrew__137', 'adtoala', 'insanelycutenoah', 'rayanemello007', 'thinlyslice', 'angixwx', 'chodenator_', 'hk_0430', 'isuckatthis123']\n['dandelot_', 'rolojosh', 'mzd_jiniya', 'alv.ssa', 'jennvuong_', 'just.liu', 'benson.the.li', 'blssm_chn', 'juicetinchu', 'wilkin.wu', 'ari_pap', 'tany_tjl', 'itsjoannee_', 'tommyclothingco', 'miles_foydl', 'mohsinhayati', 'hazelhong_', 'jaredgabrielli', 'blackcat8174', '_art3mus', 'meganzobrienz', '_sam_swanson', 'iwinnieeexi', 'brandon.yee', 'saravincent1', 'fashionably_lazy', 'maggiezusc', 'sandy19lu', 'or__ange', 'elliephantitis', 'bbecky_c', 'mjoliee', 'when_brown', 'mirandaaa_218', 'xoanetka', 'grimycolon', 'rohanchandakkar', 'imjustmikeyy', 'caseelu', 'lbst.09', 'arianajeanee', 'kush_patel17', 'thinlyslice', 'insanelycutenoah', 'chodenator_', 'thaliaycepeda', 'hk_0430', 'isuckatthis123']\n['holly.asaro', 'itsjsan', 'hardat_h_', 'mzd_jiniya', 'bobapholife', 't.kieltyka', 'phemieh', 'jiy_unthr', 'jennvuong_', 'phamous44', 'labelstom', 'just.liu', 'klu_che', 'goodgirlfariri', 'justintime417', 'mari.beeb', 'benson.the.li', 'blssm_chn', 'alphardt', 'joshc497', 'linfinity.beyond', 'wilkin.wu', 'sa.shon', 'chris_jaglal', 'itsjoannee_', 'ashnajjoseph', 'mohsinhayati', 'xmingchen', 'saipalati', 'lacerationx', 'j.ocelynn.c', 'kalpabannikuppe', 'yowangwang', 'fa.re.ha', '4m4nd4burk3', '_sam_swanson', 'meganzobrienz', 'brandon.yee', 'saravincent1', 'wayyfun', 'fashionably_lazy', 'shahjmahal', 'nicole_gogh', 'jonnn_m', 'kevinkevintang', 'sandy19lu', 'ekdoris', 'octopuxxu', 'elliephantitis', 'anishcheriyan', 'bbecky_c', 'stellamiliopulos', 'fucheeks', 'otakuchips', 'when_brown', 'mjoliee', 'dszeto', 'tierneyrhiannon', 'andelaww', 'staluppi_nation', 'mirandaaa_218', 'xoanetka', '_lightsand_', 'seb.camacho', 'arianajeanee', 'imjustmikeyy', 'lbst.09', 'thaliaycepeda', 'icysango', 'kevin_duong_1', 'tahj_tx', 'hk_0430', 'isuckatthis123']\n['anngie_isadora_may', 'itsjoannee_', 'pikarawrz_pika', 'mohsinhayati', 'goodgirlfariri', 'sandy19lu', 'clow290', 'caseelu', 'klu_che', 'apr.miao', 'totally_not_kevintran', 'benson.the.li', 'blssm_chn', 'isuckatthis123', 'meganzobrienz']\n['poofysheep_', 'mohsinhayati', 'sandy19lu', 'blssm_chn', 'anishcheriyan', 'meganzobrienz']\n"
     ]
    }
   ],
   "source": [
    "for likes in all_likes:\n",
    "    print((likes))"
   ]
  },
  {
   "cell_type": "code",
   "execution_count": 39,
   "metadata": {},
   "outputs": [
    {
     "output_type": "stream",
     "name": "stdout",
     "text": [
      "['holly.asaro', 't.kieltyka', 'shahjmahal', 'kalpabannikuppe', 'mzd_jiniya', 'phamous44', 'jennvuong_', 'labelstom', 'justintime417', 'vl_18_', 'benson.the.li', 'gabemreis', 'juicetinchu', 'wilkin.wu', 'sa.shon', 'itsjoannee_', 'ashnajjoseph', 'mohsinhayati', 'born_james11', 'jaredgabrielli', 'j.ocelynn.c', 'babyy._.antoinette', 'yowangwang', 'fa.re.ha', 'meganzobrienz', 'wowmattyy', 'alexandraleighh_', '_sam_swanson', 'brandon.yee', '4m4nd4burk3', 'fashionably_lazy', 'sandy19lu', 'octopuxxu', 'fucheeks', 'stellamiliopulos', 'when_brown', 'dszeto', 'andelaww', 'staluppi_nation', 'mathew.li7', 'whatacornpop', 'xoanetka', 'grimycolon', 'seb.camacho', 'arianajeanee', 'imjustmikeyy', 'lbst.09', 'thaliaycepeda', 'icysango', 'andrew__137', 'vietbabyx', 'tahj_tx', 'hk_0430', 'holly.asaro', 'just.owen', 'hardat_h_', 'wency__tang', 'mzd_jiniya', 'shahjmahal', 'jiy_unthr', 'phamous44', 'jennvuong_', 'justintime417', 'benson.the.li', 'blssm_chn', 'juicetinchu', 'wilkin.wu', 'ari_pap', 'tany_tjl', 'itsjoannee_', 'miles_foydl', 'hazelhong_', 'born_james11', 'mohsinhayati', 'jaredgabrielli', 'babyy._.antoinette', 'yowangwang', 'lawzzl', 'gayographer', '_art3mus', 'iwinnieeexi', '_sam_swanson', 'meganzobrienz', 'brandon.yee', 'saravincent1', 'fashionably_lazy', 'please_dont_eat_my_ass_spirits', 'sandy19lu', 'or__ange', 'octopuxxu', 'mattkluska', 'bbecky_c', 'elliephantitis', 'anishcheriyan', 'mjoliee', 'nowayitswee', 'andelaww', 'mirandaaa_218', 'xoanetka', 'grimycolon', 'rohanchandakkar', 'imjustmikeyy', 'vietbabyx', 'lbst.09', 'arianajeanee', 'caseelu', 'thinlyslice', 'adtoala', 'andrew__137', 'chodenator_', 'angixwx', 'hk_0430', 'isuckatthis123', 'anngie_isadora_may', 'poofysheep_', 'hardat_h_', 'mzd_jiniya', 'goodgirlfariri', 'direwolf6', 'klu_che', 'benson.the.li', 'juicetinchu', 'ari_pap', 'tany_tjl', 'danyul_li', 'itsjoannee_', 'karen_da_least', 'hazelhong_', 'mohsinhayati', 'lacerationx', 'yowangwang', 'nico_venegas', 'meganzobrienz', '_sam_swanson', 'vikakuz08', 'iwinnieeexi', 'fashionably_lazy', 'please_dont_eat_my_ass_spirits', 'sandy19lu', 'or__ange', 'octopuxxu', 'elliephantitis', 'otakuchips', 'when_brown', 'nowayitswee', 'badboiweiwei', 'dszeto', 'tierneyrhiannon', 'bluetigerkungfu', '_lightsand_', 'arianajeanee', 'thaliaycepeda', 'apr.miao', 'insanelycutenoah', 'angixwx', 'cheeks1.00', 'isuckatthis123', 'holly.asaro', 'ak.loo', 'hardat_h_', 'wency__tang', 'alv.ssa', 'shahjmahal', 'mzd_jiniya', 'goodgirlfariri', 'direwolf6', 'jennvuong_', 'emma___kane', 'phamous44', 'justintime417', 'just.liu', 'klu_che', 'jiy_unthr', 'mari.beeb', 'benson.the.li', 'blssm_chn', 'juicetinchu', 'wilkin.wu', 'ari_pap', 'tany_tjl', 'itsjoannee_', 'karen_da_least', 'hazelhong_', 'abkrivo', 'miles_foydl', 'mohsinhayati', 'jaredgabrielli', 'blackcat8174', 'yowangwang', 'fa.re.ha', 'meganzobrienz', '_sam_swanson', 'dmoalxoxo', 'hk_0430', 'saravincent1', 'brandon.yee', 'fashionably_lazy', 'isuckatthis123', 'maggiezusc', 'sandy19lu', 'or__ange', 'elliephantitis', 'bbecky_c', 'mjoliee', 'when_brown', 'nowayitswee', 'badboiweiwei', 'dszeto', 'mirandaaa_218', 'xoanetka', '_lightsand_', 'grimycolon', 'infernorabbit95', 'imjustmikeyy', 'arianajeanee', 'lbst.09', 'andrew__137', 'chodenator_', 'angixwx', 'anishcheriyan', 'otakuchips', 'holly.asaro', 'just.owen', 'hardat_h_', 'realfastidious', 'labelstom', 'shahjmahal', 'kalpabannikuppe', 'jiy_unthr', 'phamous44', 'jennvuong_', 'justintime417', 'klu_che', 'mari.beeb', 'benson.the.li', 'blssm_chn', 'joshc497', 'linfinity.beyond', 'juicetinchu', 'wilkin.wu', 'chris_jaglal', 'itsjoannee_', 'miles_foydl', 'mohsinhayati', 'born_james11', 'hazelhong_', 'jaredgabrielli', 'saipalati', 'lacerationx', 'yowangwang', 'gayographer', '4m4nd4burk3', '_sam_swanson', 'alexandraleighh_', 'meganzobrienz', 'brandon.yee', 'sandy19lu', 'or__ange', 'octopuxxu', 'trentjamespetersen', 'elliephantitis', 'bbecky_c', 'stellamiliopulos', 'anishcheriyan', 'when_brown', 'badboiweiwei', 'dszeto', 'tierneyrhiannon', 'mathew.li7', 'xoanetka', 'whatacornpop', 'arianajeanee', 'lbst.09', 'thaliaycepeda', 'thinlyslice', 'adtoala', 'andrew__137', 'tahj_tx', 'hk_0430', 'otakuchips', 'holly.asaro', 'just.owen', 'rolojosh', 'wency__tang', 'mzd_jiniya', 'phamous44', 'jennvuong_', 'justintime417', 'benson.the.li', 'blssm_chn', 'juicetinchu', 'wilkin.wu', 'tany_tjl', 'itsjoannee_', 'miles_foydl', 'mohsinhayati', 'hazelhong_', 'blackcat8174', 'babyy._.antoinette', 'fa.re.ha', '_sam_swanson', 'saravincent1', 'brandon.yee', 'sandy19lu', 'or__ange', 'elliephantitis', 'bbecky_c', 'andelaww', 'grimycolon', 'infernorabbit95', 'lbst.09', 'thaliaycepeda', 'angixwx', 'hk_0430', 'isuckatthis123', 'holly.asaro', 'just.owen', 'ak.loo', 'vicpwn123', 'wency__tang', 'mzd_jiniya', 'goodgirlfariri', 'phamous44', 'jennvuong_', 'jiy_unthr', 'justintime417', 'benson.the.li', 'juicetinchu', 'wilkin.wu', 'tany_tjl', 'itsjoannee_', 'miles_foydl', 'hazelhong_', 'mohsinhayati', 'jaredgabrielli', 'blackcat8174', 'yowangwang', 'fa.re.ha', 'gayographer', 'meganzobrienz', '_sam_swanson', 'brandon.yee', 'saravincent1', 'sandy19lu', 'or__ange', 'elliephantitis', 'bbecky_c', 'badboiweiwei', 'tierneyrhiannon', 'staluppi_nation', 'bluetigerkungfu', 'mirandaaa_218', '_lightsand_', 'grimycolon', 'imjustmikeyy', 'arianajeanee', 'lbst.09', 'caseelu', 'icysango', 'angixwx', 'hk_0430', 'caroline__grxx', 'holly.asaro', 'just.owen', 'ak.loo', 'rolojosh', 'mzd_jiniya', 'phemieh', 'jiy_unthr', 'phamous44', 'vl_18_', 'justintime417', 'klu_che', 'benson.the.li', 'juicetinchu', 'wilkin.wu', 'tany_tjl', 'itsjoannee_', 'ashnajjoseph', 'miles_foydl', 'mohsinhayati', 'hazelhong_', 'jayyyabaddd', 'jaredgabrielli', 'babyy._.antoinette', 'nico_venegas', 'yowangwang', 'fa.re.ha', 'gayographer', '_sam_swanson', 'dmoalxoxo', 'alexandraleighh_', 'keviin.liang', 'brandon.yee', 'saravincent1', 'fashionably_lazy', 'sandy19lu', 'or__ange', 'octopuxxu', 'trentjamespetersen', 'otakuchips', 'bbecky_c', 'mecon_4ever', 'mjoliee', 'when_brown', 'badboiweiwei', 'phyllakit', 'tierneyrhiannon', 'andelaww', 'staluppi_nation', 'mirandaaa_218', 'xoanetka', 'grimycolon', 'rohanchandakkar', 'infernorabbit95', 'imjustmikeyy', 'arianajeanee', 'lbst.09', 'thaliaycepeda', 'andrew__137', 'adtoala', 'insanelycutenoah', 'rayanemello007', 'thinlyslice', 'angixwx', 'chodenator_', 'hk_0430', 'isuckatthis123', 'dandelot_', 'rolojosh', 'mzd_jiniya', 'alv.ssa', 'jennvuong_', 'just.liu', 'benson.the.li', 'blssm_chn', 'juicetinchu', 'wilkin.wu', 'ari_pap', 'tany_tjl', 'itsjoannee_', 'tommyclothingco', 'miles_foydl', 'mohsinhayati', 'hazelhong_', 'jaredgabrielli', 'blackcat8174', '_art3mus', 'meganzobrienz', '_sam_swanson', 'iwinnieeexi', 'brandon.yee', 'saravincent1', 'fashionably_lazy', 'maggiezusc', 'sandy19lu', 'or__ange', 'elliephantitis', 'bbecky_c', 'mjoliee', 'when_brown', 'mirandaaa_218', 'xoanetka', 'grimycolon', 'rohanchandakkar', 'imjustmikeyy', 'caseelu', 'lbst.09', 'arianajeanee', 'kush_patel17', 'thinlyslice', 'insanelycutenoah', 'chodenator_', 'thaliaycepeda', 'hk_0430', 'isuckatthis123', 'holly.asaro', 'itsjsan', 'hardat_h_', 'mzd_jiniya', 'bobapholife', 't.kieltyka', 'phemieh', 'jiy_unthr', 'jennvuong_', 'phamous44', 'labelstom', 'just.liu', 'klu_che', 'goodgirlfariri', 'justintime417', 'mari.beeb', 'benson.the.li', 'blssm_chn', 'alphardt', 'joshc497', 'linfinity.beyond', 'wilkin.wu', 'sa.shon', 'chris_jaglal', 'itsjoannee_', 'ashnajjoseph', 'mohsinhayati', 'xmingchen', 'saipalati', 'lacerationx', 'j.ocelynn.c', 'kalpabannikuppe', 'yowangwang', 'fa.re.ha', '4m4nd4burk3', '_sam_swanson', 'meganzobrienz', 'brandon.yee', 'saravincent1', 'wayyfun', 'fashionably_lazy', 'shahjmahal', 'nicole_gogh', 'jonnn_m', 'kevinkevintang', 'sandy19lu', 'ekdoris', 'octopuxxu', 'elliephantitis', 'anishcheriyan', 'bbecky_c', 'stellamiliopulos', 'fucheeks', 'otakuchips', 'when_brown', 'mjoliee', 'dszeto', 'tierneyrhiannon', 'andelaww', 'staluppi_nation', 'mirandaaa_218', 'xoanetka', '_lightsand_', 'seb.camacho', 'arianajeanee', 'imjustmikeyy', 'lbst.09', 'thaliaycepeda', 'icysango', 'kevin_duong_1', 'tahj_tx', 'hk_0430', 'isuckatthis123', 'anngie_isadora_may', 'itsjoannee_', 'pikarawrz_pika', 'mohsinhayati', 'goodgirlfariri', 'sandy19lu', 'clow290', 'caseelu', 'klu_che', 'apr.miao', 'totally_not_kevintran', 'benson.the.li', 'blssm_chn', 'isuckatthis123', 'meganzobrienz', 'poofysheep_', 'mohsinhayati', 'sandy19lu', 'blssm_chn', 'anishcheriyan', 'meganzobrienz']\n"
     ]
    }
   ],
   "source": [
    "from itertools import chain\n",
    "flat_likes = list(chain.from_iterable(all_likes))\n",
    "\n",
    "print(flat_likes)"
   ]
  },
  {
   "cell_type": "code",
   "execution_count": 41,
   "metadata": {},
   "outputs": [],
   "source": [
    "unique, counts = numpy.unique(flat_likes, return_counts=True)\n",
    "count_likes = dict(zip(unique, counts))"
   ]
  },
  {
   "cell_type": "code",
   "execution_count": 42,
   "metadata": {},
   "outputs": [
    {
     "output_type": "execute_result",
     "data": {
      "text/plain": [
       "dict"
      ]
     },
     "metadata": {},
     "execution_count": 42
    }
   ],
   "source": [
    "type(count_likes)"
   ]
  },
  {
   "cell_type": "code",
   "execution_count": 44,
   "metadata": {},
   "outputs": [],
   "source": [
    "sorted_likes = dict(sorted(count_likes.items(), key=lambda item: item[1]))"
   ]
  },
  {
   "cell_type": "code",
   "execution_count": 49,
   "metadata": {},
   "outputs": [
    {
     "output_type": "error",
     "ename": "PermissionError",
     "evalue": "[Errno 13] Permission denied: 'anthony_likes.csv'",
     "traceback": [
      "\u001b[0;31m---------------------------------------------------------------------------\u001b[0m",
      "\u001b[0;31mPermissionError\u001b[0m                           Traceback (most recent call last)",
      "\u001b[0;32m<ipython-input-49-8c6922e9952c>\u001b[0m in \u001b[0;36m<module>\u001b[0;34m\u001b[0m\n\u001b[1;32m      1\u001b[0m \u001b[0;32mimport\u001b[0m \u001b[0mcsv\u001b[0m\u001b[0;34m\u001b[0m\u001b[0;34m\u001b[0m\u001b[0m\n\u001b[1;32m      2\u001b[0m \u001b[0;34m\u001b[0m\u001b[0m\n\u001b[0;32m----> 3\u001b[0;31m \u001b[0;32mwith\u001b[0m \u001b[0mopen\u001b[0m\u001b[0;34m(\u001b[0m\u001b[0;34m'anthony_likes.csv'\u001b[0m\u001b[0;34m,\u001b[0m \u001b[0;34m'w'\u001b[0m\u001b[0;34m)\u001b[0m \u001b[0;32mas\u001b[0m \u001b[0mcsv_file\u001b[0m\u001b[0;34m:\u001b[0m\u001b[0;34m\u001b[0m\u001b[0;34m\u001b[0m\u001b[0m\n\u001b[0m\u001b[1;32m      4\u001b[0m     \u001b[0mwriter\u001b[0m \u001b[0;34m=\u001b[0m \u001b[0mcsv\u001b[0m\u001b[0;34m.\u001b[0m\u001b[0mwriter\u001b[0m\u001b[0;34m(\u001b[0m\u001b[0mcsv_file\u001b[0m\u001b[0;34m)\u001b[0m\u001b[0;34m\u001b[0m\u001b[0;34m\u001b[0m\u001b[0m\n\u001b[1;32m      5\u001b[0m     \u001b[0;32mfor\u001b[0m \u001b[0mkey\u001b[0m\u001b[0;34m,\u001b[0m \u001b[0mvalue\u001b[0m \u001b[0;32min\u001b[0m \u001b[0msorted_likes\u001b[0m\u001b[0;34m.\u001b[0m\u001b[0mitems\u001b[0m\u001b[0;34m(\u001b[0m\u001b[0;34m)\u001b[0m\u001b[0;34m:\u001b[0m\u001b[0;34m\u001b[0m\u001b[0;34m\u001b[0m\u001b[0m\n",
      "\u001b[0;31mPermissionError\u001b[0m: [Errno 13] Permission denied: 'anthony_likes.csv'"
     ]
    }
   ],
   "source": [
    "import csv\n",
    "\n",
    "with open('anthony_likes.csv', 'w') as csv_file:  \n",
    "    writer = csv.writer(csv_file)\n",
    "    for key, value in sorted_likes.items():\n",
    "       writer.writerow([key, value])"
   ]
  },
  {
   "cell_type": "code",
   "execution_count": null,
   "metadata": {},
   "outputs": [],
   "source": []
  }
 ]
}