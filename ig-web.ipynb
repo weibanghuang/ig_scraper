{
 "metadata": {
  "language_info": {
   "codemirror_mode": {
    "name": "ipython",
    "version": 3
   },
   "file_extension": ".py",
   "mimetype": "text/x-python",
   "name": "python",
   "nbconvert_exporter": "python",
   "pygments_lexer": "ipython3",
   "version": "3.8.8"
  },
  "orig_nbformat": 2,
  "kernelspec": {
   "name": "python388jvsc74a57bd0c425ed1dcebe4b2ddbc226ad1f4c02dd91e31bfd626ec9fca7823e7113b9af86",
   "display_name": "Python 3.8.8 64-bit ('base': conda)"
  },
  "metadata": {
   "interpreter": {
    "hash": "1f3badd15024c32157114ba2220d2563bd5c52546c58b5347587a8ed5081412b"
   }
  }
 },
 "nbformat": 4,
 "nbformat_minor": 2,
 "cells": [
  {
   "cell_type": "code",
   "execution_count": null,
   "metadata": {},
   "outputs": [],
   "source": [
    "from selenium import webdriver\n",
    "from selenium.webdriver.common.keys import Keys\n",
    "from selenium.webdriver.support import expected_conditions as EC\n",
    "from selenium.webdriver.common.by import By\n",
    "from selenium.webdriver.support.wait import WebDriverWait\n",
    "import time"
   ]
  },
  {
   "cell_type": "code",
   "execution_count": null,
   "metadata": {},
   "outputs": [],
   "source": [
    "# get driver path to path folder that contains chromedriver\n",
    "DRIVER_PATH = '/.../path/chromesdriver'"
   ]
  },
  {
   "cell_type": "code",
   "execution_count": null,
   "metadata": {},
   "outputs": [],
   "source": [
    "# opens chromedriver and go to ig\n",
    "driver = webdriver.Chrome(executable_path=DRIVER_PATH)\n",
    "driver.get('https://www.instagram.com/')"
   ]
  },
  {
   "cell_type": "code",
   "execution_count": null,
   "metadata": {},
   "outputs": [],
   "source": [
    "#you will see the login page\n",
    "username = WebDriverWait(driver, 10).until(EC.element_to_be_clickable((By.CSS_SELECTOR, \"input[name='username']\")))\n",
    "password = WebDriverWait(driver, 10).until(EC.element_to_be_clickable((By.CSS_SELECTOR, \"input[name='password']\")))\n",
    "\n",
    "#fill in your username and password\n",
    "#enter username and password\n",
    "username.clear()\n",
    "username.send_keys(\"put in your ig username\")\n",
    "password.clear()\n",
    "password.send_keys(\"put in your ig password\")\n",
    "\n",
    "#log in for you\n",
    "button = WebDriverWait(driver, 2).until(EC.element_to_be_clickable((By.CSS_SELECTOR, \"button[type='submit']\"))).click()\n"
   ]
  },
  {
   "cell_type": "code",
   "execution_count": null,
   "metadata": {},
   "outputs": [],
   "source": [
    "#enter ig profile to be scraped\n",
    "driver.get('https://www.instagram.com/.../')"
   ]
  },
  {
   "cell_type": "code",
   "execution_count": null,
   "metadata": {
    "tags": []
   },
   "outputs": [],
   "source": [
    "#scroll through ig profile to obtain links for all posts\n",
    "#adjust n_scrolls depending on how long the profile is\n",
    "n_scrolls = 30\n",
    "result=[]\n",
    "for j in range(0, n_scrolls):\n",
    "    anchors = driver.find_elements_by_tag_name('a')\n",
    "    anchors = [a.get_attribute('href') for a in anchors]\n",
    "    result.append(anchors)\n",
    "    driver.execute_script(\"window.scrollTo(0,document.body.scrollHeight);\")\n",
    "    time.sleep(5)"
   ]
  },
  {
   "cell_type": "code",
   "execution_count": null,
   "metadata": {},
   "outputs": [],
   "source": [
    "#convert all links into usuable links\n",
    "weblinks=[]\n",
    "for i in result:\n",
    "    for j in i:\n",
    "        if str(j).startswith(\"https://www.instagram.com/p/\"):\n",
    "            weblinks.append(j)\n",
    "\n",
    "weblinks=list(set(weblinks))"
   ]
  },
  {
   "cell_type": "code",
   "execution_count": null,
   "metadata": {},
   "outputs": [],
   "source": [
    "#print links\n",
    "#check links length. Should equal the amount of posts.\n",
    "for link in weblinks:\n",
    "    print(link)\n",
    "\n",
    "print(len(weblinks))"
   ]
  },
  {
   "cell_type": "code",
   "execution_count": null,
   "metadata": {},
   "outputs": [],
   "source": [
    "#ignore this\n",
    "\n",
    "# driver.get(\"https://www.instagram.com/p/.../\")\n",
    "# time.sleep(3)\n",
    "# element = WebDriverWait(driver, 2).until(EC.element_to_be_clickable((By.CSS_SELECTOR, \"a[class='zV_Nj']\"))).click()\n",
    "# time.sleep(3)\n",
    "# users = []\n",
    "# for x in range(10):\n",
    "#     elems = driver.find_elements_by_xpath(\"//a[@class='FPmhX notranslate MBL3Z']\")\n",
    "#     for elem in elems:\n",
    "#         users.append(elem.get_attribute('title'))\n",
    "#     elems[-1].location_once_scrolled_into_view\n",
    "#     time.sleep(3)\n",
    "\n",
    "# users=list(set(users))\n",
    "# print(users)\n",
    "# len(users)"
   ]
  },
  {
   "cell_type": "code",
   "execution_count": null,
   "metadata": {},
   "outputs": [],
   "source": [
    "#go through all post links and extract the likes\n",
    "\n",
    "all_likes=[]\n",
    "def scrape_likes(link):\n",
    "    users = []\n",
    "    try:\n",
    "        driver.get(link)\n",
    "        time.sleep(3)\n",
    "        element = WebDriverWait(driver, 2).until(EC.element_to_be_clickable((By.CSS_SELECTOR, \"a[class='zV_Nj']\"))).click()\n",
    "        time.sleep(3)\n",
    "        for x in range(10):\n",
    "            elems = driver.find_elements_by_xpath(\"//a[@class='FPmhX notranslate MBL3Z']\")\n",
    "            for elem in elems:\n",
    "                users.append(elem.get_attribute('title'))\n",
    "            elems[-1].location_once_scrolled_into_view\n",
    "            time.sleep(3)\n",
    "        users=list(set(users))\n",
    "    except:\n",
    "        pass\n",
    "    return users\n",
    "\n",
    "for links in weblinks:\n",
    "    all_likes.append(scrape_likes(links))\n"
   ]
  },
  {
   "cell_type": "code",
   "execution_count": null,
   "metadata": {},
   "outputs": [],
   "source": [
    "print(len(all_likes))"
   ]
  },
  {
   "cell_type": "code",
   "execution_count": null,
   "metadata": {},
   "outputs": [],
   "source": [
    "#count the likes \n",
    "\n",
    "from itertools import chain\n",
    "import numpy\n",
    "flat_likes = list(chain.from_iterable(all_likes))\n",
    "\n",
    "unique, counts = numpy.unique(flat_likes, return_counts=True)\n",
    "count_likes = dict(zip(unique, counts))\n",
    "\n",
    "sorted_likes = dict(sorted(count_likes.items(), key=lambda item: item[1]))"
   ]
  },
  {
   "cell_type": "code",
   "execution_count": null,
   "metadata": {},
   "outputs": [],
   "source": [
    "#create a csv file\n",
    "\n",
    "#for mac users, put in the following command into terminal\n",
    "# touch /...path to location you like.../name_your_file.csv\n",
    "# example -> touch /Users/mymac/Documents/likes.csv\n",
    "import csv\n",
    "\n",
    "with open('name_your_file.csv', 'w') as csv_file:  \n",
    "    writer = csv.writer(csv_file)\n",
    "    for key, value in sorted_likes.items():\n",
    "       writer.writerow([key, value])"
   ]
  },
  {
   "cell_type": "code",
   "execution_count": null,
   "metadata": {},
   "outputs": [],
   "source": []
  }
 ]
}